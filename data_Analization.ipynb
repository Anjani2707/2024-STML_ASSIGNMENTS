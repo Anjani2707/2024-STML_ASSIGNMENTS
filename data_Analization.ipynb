{
  "nbformat": 4,
  "nbformat_minor": 0,
  "metadata": {
    "colab": {
      "provenance": [],
      "authorship_tag": "ABX9TyNlm4/gIpMURVFyk2l8aCxv",
      "include_colab_link": true
    },
    "kernelspec": {
      "name": "python3",
      "display_name": "Python 3"
    },
    "language_info": {
      "name": "python"
    }
  },
  "cells": [
    {
      "cell_type": "markdown",
      "metadata": {
        "id": "view-in-github",
        "colab_type": "text"
      },
      "source": [
        "<a href=\"https://colab.research.google.com/github/Anjani2707/2024-STML_ASSIGNMENTS/blob/main/data_Analization.ipynb\" target=\"_parent\"><img src=\"https://colab.research.google.com/assets/colab-badge.svg\" alt=\"Open In Colab\"/></a>"
      ]
    },
    {
      "cell_type": "code",
      "execution_count": null,
      "metadata": {
        "id": "JeJ8HfBjZ8Az"
      },
      "outputs": [],
      "source": [
        "import pandas as pd\n",
        "d=pd.read_csv(\"/content/sample_data/mnist_test.csv\")\n"
      ]
    },
    {
      "cell_type": "code",
      "source": [
        "print(d)"
      ],
      "metadata": {
        "colab": {
          "base_uri": "https://localhost:8080/"
        },
        "id": "hEisLaOIbWDM",
        "outputId": "2c74d1a6-6b7b-4f7c-fc33-3e2445f3fda1"
      },
      "execution_count": null,
      "outputs": [
        {
          "output_type": "stream",
          "name": "stdout",
          "text": [
            "      7  0  0.1  0.2  0.3  0.4  0.5  0.6  0.7  0.8  ...  0.658  0.659  0.660  \\\n",
            "0     2  0    0    0    0    0    0    0    0    0  ...      0      0      0   \n",
            "1     1  0    0    0    0    0    0    0    0    0  ...      0      0      0   \n",
            "2     0  0    0    0    0    0    0    0    0    0  ...      0      0      0   \n",
            "3     4  0    0    0    0    0    0    0    0    0  ...      0      0      0   \n",
            "4     1  0    0    0    0    0    0    0    0    0  ...      0      0      0   \n",
            "...  .. ..  ...  ...  ...  ...  ...  ...  ...  ...  ...    ...    ...    ...   \n",
            "9994  2  0    0    0    0    0    0    0    0    0  ...      0      0      0   \n",
            "9995  3  0    0    0    0    0    0    0    0    0  ...      0      0      0   \n",
            "9996  4  0    0    0    0    0    0    0    0    0  ...      0      0      0   \n",
            "9997  5  0    0    0    0    0    0    0    0    0  ...      0      0      0   \n",
            "9998  6  0    0    0    0    0    0    0    0    0  ...      0      0      0   \n",
            "\n",
            "      0.661  0.662  0.663  0.664  0.665  0.666  0.667  \n",
            "0         0      0      0      0      0      0      0  \n",
            "1         0      0      0      0      0      0      0  \n",
            "2         0      0      0      0      0      0      0  \n",
            "3         0      0      0      0      0      0      0  \n",
            "4         0      0      0      0      0      0      0  \n",
            "...     ...    ...    ...    ...    ...    ...    ...  \n",
            "9994      0      0      0      0      0      0      0  \n",
            "9995      0      0      0      0      0      0      0  \n",
            "9996      0      0      0      0      0      0      0  \n",
            "9997      0      0      0      0      0      0      0  \n",
            "9998      0      0      0      0      0      0      0  \n",
            "\n",
            "[9999 rows x 785 columns]\n"
          ]
        }
      ]
    },
    {
      "cell_type": "code",
      "source": [
        "print(d['0.3'])"
      ],
      "metadata": {
        "colab": {
          "base_uri": "https://localhost:8080/"
        },
        "id": "QeKdUQhRb38n",
        "outputId": "aa4ff10d-3a44-4533-8f9c-9cdd25a61989"
      },
      "execution_count": null,
      "outputs": [
        {
          "output_type": "stream",
          "name": "stdout",
          "text": [
            "0       0\n",
            "1       0\n",
            "2       0\n",
            "3       0\n",
            "4       0\n",
            "       ..\n",
            "9994    0\n",
            "9995    0\n",
            "9996    0\n",
            "9997    0\n",
            "9998    0\n",
            "Name: 0.3, Length: 9999, dtype: int64\n"
          ]
        }
      ]
    }
  ]
}