{
  "nbformat": 4,
  "nbformat_minor": 0,
  "metadata": {
    "colab": {
      "provenance": [],
      "authorship_tag": "ABX9TyNF9kG/gKXfVSx1QWkBY+HX",
      "include_colab_link": true
    },
    "kernelspec": {
      "name": "python3",
      "display_name": "Python 3"
    },
    "language_info": {
      "name": "python"
    }
  },
  "cells": [
    {
      "cell_type": "markdown",
      "metadata": {
        "id": "view-in-github",
        "colab_type": "text"
      },
      "source": [
        "<a href=\"https://colab.research.google.com/github/Anjani2707/2024-STML_ASSIGNMENTS/blob/main/STML_ASSIGNMENT2.ipynb\" target=\"_parent\"><img src=\"https://colab.research.google.com/assets/colab-badge.svg\" alt=\"Open In Colab\"/></a>"
      ]
    },
    {
      "cell_type": "markdown",
      "source": [
        "Question 1:\n",
        "\n",
        "Given the following dataset: X={1.3,1.5,2.6,2.6,3.2,3.9,4.2,3.7,3.10,3.0,11,6.7,1.9}. Compute the density of the data using a histogram with 5 bins.\n"
      ],
      "metadata": {
        "id": "CGBe8R4yhH-R"
      }
    },
    {
      "cell_type": "code",
      "source": [
        "X={1.3,1.5,2.6,2.6,3.2,3.9,4.2,3.7,3.10,3.0,11,6.7,1.9}\n",
        "\n",
        "import matplotlib.pyplot as plt\n",
        "plt.hist(X, bins=5, density=True)\n",
        "plt.xlabel('X')\n",
        "plt.ylabel('Density')\n",
        "plt.title('Histogram of X')\n",
        "plt.show()\n"
      ],
      "metadata": {
        "colab": {
          "base_uri": "https://localhost:8080/",
          "height": 472
        },
        "id": "bpLu6YhehJhE",
        "outputId": "6d60a08b-c3a5-46f5-eba9-ab8a53a01adb"
      },
      "execution_count": 1,
      "outputs": [
        {
          "output_type": "display_data",
          "data": {
            "text/plain": [
              "<Figure size 640x480 with 1 Axes>"
            ],
            "image/png": "[encoded data removed]"
          },
          "metadata": {}
        }
      ]
    },
    {
      "cell_type": "markdown",
      "source": [
        "Question 2:\n",
        "\n",
        " (dependent variables) 12 13 56 23 41 58 51\n",
        "\n",
        " (independent variables) 51 63 37 88 33 72 81\n",
        "\n",
        "Find Mean, Median, Mode , Variance , Standard deviation , Range , Interquartile Range (IQR),  Skewness ,Kurtosis of x and y"
      ],
      "metadata": {
        "id": "PA1H35KvhkQ6"
      }
    },
    {
      "cell_type": "code",
      "source": [
        "import numpy as np\n",
        "import pandas as pd\n",
        "X = [12,13,56,23,41,58,51]\n",
        "Y = [51,63,37,88,33,72,81]\n",
        "x = np.array(X)\n",
        "y = np.array(Y)\n",
        "Q1 = np.percentile(x, 25)\n",
        "Q3 = np.percentile(x, 75)\n",
        "IQR = Q3-Q1\n",
        "print(\"Quartile1 of x: \", Q1)\n",
        "print(\"Quartile3 of x: \", Q3)\n",
        "print(\"Interquartile range of x: \", IQR)\n",
        "print(\"Mean of x: \", np.mean(x))\n",
        "print(\"Mean of y: \", np.mean(y))\n",
        "print(\"Median of x: \", np.median(x))\n",
        "print(\"Median of y: \", np.median(y))\n",
        "print(\"Variance of x: \", np.var(x))\n",
        "print(\"Variance of y: \", np.var(y))\n",
        "print(\"Standard deviation of x: \", np.std(x))\n",
        "print(\"Standard deviation of y: \", np.std(y))\n",
        "print(\"Range of x: \", np.ptp(x))\n",
        "print(\"Range of x: \", np.ptp(y))\n",
        "c = np.bincount(x)\n",
        "m = np.argmax(c)\n",
        "C = np.bincount(y)\n",
        "M = np.argmax(C)\n",
        "print(\"Mode of x: \", m)\n",
        "print(\"Mode of y: \", M)\n",
        "q1 = np.percentile(y, 25)\n",
        "q3 = np.percentile(y, 75)\n",
        "iqr = q3-q1\n",
        "print(\"Quartile1 of y: \", q1)\n",
        "print(\"Quartile3 of y: \", q3)\n",
        "print(\"Interquartile range of y: \", iqr)\n",
        "series = pd.Series(x)\n",
        "skewn = series.skew()\n",
        "print(\"Skewness of x: \", skewn)\n",
        "ser = pd.Series(y)\n",
        "ske = ser.skew()\n",
        "print(\"Skewness of y: \", ske)\n",
        "ser = pd.Series(x)\n",
        "kurt = ser.kurt()\n",
        "print(\"Kurtosis of x: \", kurt)\n",
        "wser = pd.Series(y)\n",
        "krt = wser.kurt()\n",
        "print(\"Kurtosis of y: \", krt)"
      ],
      "metadata": {
        "colab": {
          "base_uri": "https://localhost:8080/"
        },
        "id": "3bCRcbWnh-Y1",
        "outputId": "bf27b03e-f184-4124-8acf-7540570819ae"
      },
      "execution_count": 2,
      "outputs": [
        {
          "output_type": "stream",
          "name": "stdout",
          "text": [
            "Quartile1 of x:  18.0\n",
            "Quartile3 of x:  53.5\n",
            "Interquartile range of x:  35.5\n",
            "Mean of x:  36.285714285714285\n",
            "Mean of y:  60.714285714285715\n",
            "Median of x:  41.0\n",
            "Median of y:  63.0\n",
            "Variance of x:  343.91836734693874\n",
            "Variance of y:  387.6326530612245\n",
            "Standard deviation of x:  18.545036191578024\n",
            "Standard deviation of y:  19.68838878784205\n",
            "Range of x:  46\n",
            "Range of x:  55\n",
            "Mode of x:  12\n",
            "Mode of y:  33\n",
            "Quartile1 of y:  44.0\n",
            "Quartile3 of y:  76.5\n",
            "Interquartile range of y:  32.5\n",
            "Skewness of x:  -0.23526400091562513\n",
            "Skewness of y:  -0.13169496617475043\n",
            "Kurtosis of x:  -2.2295059841282243\n",
            "Kurtosis of y:  -1.6236709987134375\n"
          ]
        }
      ]
    },
    {
      "cell_type": "markdown",
      "source": [
        "Question 3:\n",
        "\n",
        "From the above data Find Mean, Median, Mode, Variance, Standard deviation, Range , Interquartile Range (IQR),  Skewness ,Kurtosis of each feature."
      ],
      "metadata": {
        "id": "J8_rhrtriZ4J"
      }
    },
    {
      "cell_type": "code",
      "source": [
        "import pandas as pd\n",
        "import numpy as np\n",
        "from scipy.stats import kurtosis\n",
        "\n",
        "\n",
        "df1 = pd.read_csv('/content/sample_data/california_housing_test.csv')\n",
        "print(df1)\n",
        "print(df1.describe())\n",
        "\n",
        "lg = df1['longitude'].values\n",
        "la = df1['latitude'].values\n",
        "hma = df1['housing_median_age'].values\n",
        "tr = df1['total_rooms'].values\n",
        "tb = df1['total_bedrooms'].values\n",
        "po = df1['population'].values\n",
        "hh = df1['households'].values\n",
        "mi = df1['median_income'].values\n",
        "mhv = df1['median_house_value'].values\n",
        "\n",
        "\n",
        "def calculate_statistics(data, name):\n",
        "    print(f\"Statistics for {name}:\")\n",
        "    print(f\"Mean: {np.mean(data):.2f}\")\n",
        "    print(f\"Median: {np.median(data):.2f}\")\n",
        "    print(f\"Variance: {np.var(data):.2f}\")\n",
        "    print(f\"Standard deviation: {np.std(data):.2f}\")\n",
        "    print(f\"Range: {np.max(data) - np.min(data):.2f}\")\n",
        "    q1, q3 = np.percentile(data, [25, 75])\n",
        "    iqr = q3 - q1\n",
        "    print(f\"Interquartile range: {iqr:.2f}\")\n",
        "    print(f\"Skewness: {np.mean((data - np.mean(data)) / np.std(data)):.2f}\")\n",
        "    print(f\"Kurtosis: {kurtosis(data):.2f}\")\n",
        "    print()\n",
        "\n",
        "\n",
        "calculate_statistics(lg, 'longitude')\n",
        "calculate_statistics(la, 'latitude')\n",
        "calculate_statistics(hma, 'housing_median_age')\n",
        "calculate_statistics(tr, 'total_rooms')"
      ],
      "metadata": {
        "colab": {
          "base_uri": "https://localhost:8080/"
        },
        "id": "V7vRdy9ridpB",
        "outputId": "a389d36f-6ca2-4a1c-8dd2-59f30acedc03"
      },
      "execution_count": 3,
      "outputs": [
        {
          "output_type": "stream",
          "name": "stdout",
          "text": [
            "      longitude  latitude  housing_median_age  total_rooms  total_bedrooms  \\\n",
            "0       -122.05     37.37                27.0       3885.0           661.0   \n",
            "1       -118.30     34.26                43.0       1510.0           310.0   \n",
            "2       -117.81     33.78                27.0       3589.0           507.0   \n",
            "3       -118.36     33.82                28.0         67.0            15.0   \n",
            "4       -119.67     36.33                19.0       1241.0           244.0   \n",
            "...         ...       ...                 ...          ...             ...   \n",
            "2995    -119.86     34.42                23.0       1450.0           642.0   \n",
            "2996    -118.14     34.06                27.0       5257.0          1082.0   \n",
            "2997    -119.70     36.30                10.0        956.0           201.0   \n",
            "2998    -117.12     34.10                40.0         96.0            14.0   \n",
            "2999    -119.63     34.42                42.0       1765.0           263.0   \n",
            "\n",
            "      population  households  median_income  median_house_value  \n",
            "0         1537.0       606.0         6.6085            344700.0  \n",
            "1          809.0       277.0         3.5990            176500.0  \n",
            "2         1484.0       495.0         5.7934            270500.0  \n",
            "3           49.0        11.0         6.1359            330000.0  \n",
            "4          850.0       237.0         2.9375             81700.0  \n",
            "...          ...         ...            ...                 ...  \n",
            "2995      1258.0       607.0         1.1790            225000.0  \n",
            "2996      3496.0      1036.0         3.3906            237200.0  \n",
            "2997       693.0       220.0         2.2895             62000.0  \n",
            "2998        46.0        14.0         3.2708            162500.0  \n",
            "2999       753.0       260.0         8.5608            500001.0  \n",
            "\n",
            "[3000 rows x 9 columns]\n",
            "         longitude    latitude  housing_median_age   total_rooms  \\\n",
            "count  3000.000000  3000.00000         3000.000000   3000.000000   \n",
            "mean   -119.589200    35.63539           28.845333   2599.578667   \n",
            "std       1.994936     2.12967           12.555396   2155.593332   \n",
            "min    -124.180000    32.56000            1.000000      6.000000   \n",
            "25%    -121.810000    33.93000           18.000000   1401.000000   \n",
            "50%    -118.485000    34.27000           29.000000   2106.000000   \n",
            "75%    -118.020000    37.69000           37.000000   3129.000000   \n",
            "max    -114.490000    41.92000           52.000000  30450.000000   \n",
            "\n",
            "       total_bedrooms    population  households  median_income  \\\n",
            "count     3000.000000   3000.000000  3000.00000    3000.000000   \n",
            "mean       529.950667   1402.798667   489.91200       3.807272   \n",
            "std        415.654368   1030.543012   365.42271       1.854512   \n",
            "min          2.000000      5.000000     2.00000       0.499900   \n",
            "25%        291.000000    780.000000   273.00000       2.544000   \n",
            "50%        437.000000   1155.000000   409.50000       3.487150   \n",
            "75%        636.000000   1742.750000   597.25000       4.656475   \n",
            "max       5419.000000  11935.000000  4930.00000      15.000100   \n",
            "\n",
            "       median_house_value  \n",
            "count          3000.00000  \n",
            "mean         205846.27500  \n",
            "std          113119.68747  \n",
            "min           22500.00000  \n",
            "25%          121200.00000  \n",
            "50%          177650.00000  \n",
            "75%          263975.00000  \n",
            "max          500001.00000  \n",
            "Statistics for longitude:\n",
            "Mean: -119.59\n",
            "Median: -118.48\n",
            "Variance: 3.98\n",
            "Standard deviation: 1.99\n",
            "Range: 9.69\n",
            "Interquartile range: 3.79\n",
            "Skewness: -0.00\n",
            "Kurtosis: -1.36\n",
            "\n",
            "Statistics for latitude:\n",
            "Mean: 35.64\n",
            "Median: 34.27\n",
            "Variance: 4.53\n",
            "Standard deviation: 2.13\n",
            "Range: 9.36\n",
            "Interquartile range: 3.76\n",
            "Skewness: 0.00\n",
            "Kurtosis: -1.12\n",
            "\n",
            "Statistics for housing_median_age:\n",
            "Mean: 28.85\n",
            "Median: 29.00\n",
            "Variance: 157.59\n",
            "Standard deviation: 12.55\n",
            "Range: 51.00\n",
            "Interquartile range: 19.00\n",
            "Skewness: 0.00\n",
            "Kurtosis: -0.80\n",
            "\n",
            "Statistics for total_rooms:\n",
            "Mean: 2599.58\n",
            "Median: 2106.00\n",
            "Variance: 4645033.75\n",
            "Standard deviation: 2155.23\n",
            "Range: 30444.00\n",
            "Interquartile range: 1728.00\n",
            "Skewness: -0.00\n",
            "Kurtosis: 32.04\n",
            "\n"
          ]
        }
      ]
    }
  ]
}